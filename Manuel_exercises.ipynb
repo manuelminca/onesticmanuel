{
 "cells": [
  {
   "cell_type": "markdown",
   "metadata": {},
   "source": [
    "# Exercise\n",
    "\n",
    "The ACME inc. tool supply company manages its operations with 3 csv files:\n",
    "\n",
    "1. `customers.csv` keeps customer information:\n",
    "    * `id` is a numeric customer id\n",
    "    * `firstname` is the customer's first name\n",
    "    * `lastname` is the customer's last name\n",
    "2. `products.csv` keeps product info:\n",
    "    * `id` is a numeric product id\n",
    "    * `name` is the human-readable name\n",
    "    * `cost` is the product cost in euros\n",
    "3. `orders.csv` keeps order information:\n",
    "    * `id` is a numeric order id\n",
    "    * `customer` is the numeric id of the customer who created the order\n",
    "    * `products` is a space-separated list of product ids ordered by the customer\n",
    "\n",
    "Manually dealing with those files is hard and error-prone, and they've asked for your help writing some code to make their lives easier."
   ]
  },
  {
   "cell_type": "markdown",
   "metadata": {},
   "source": [
    "### Task 1\n",
    "\n",
    "Right now the `orders.csv` doesn't have total order cost information.\n",
    "\n",
    "We need to use the data in these files to emit a `order_prices.csv` file with the following columns:\n",
    "* `id` the numeric id of the order\n",
    "* `euros` the total cost of the order"
   ]
  },
  {
   "cell_type": "code",
   "execution_count": 1,
   "metadata": {},
   "outputs": [
    {
     "name": "stdout",
     "output_type": "stream",
     "text": [
      "   id  customer           products\n",
      "0   0         0            1 0 1 0\n",
      "1   1        22  0 5 0 4 5 3 2 1 1\n",
      "2   2        57              5 2 4\n",
      "3   3        20          4 3 0 2 4\n",
      "4   4        28        5 0 5 0 3 4\n",
      "   id         name      cost\n",
      "0   0  screwdriver  2.981164\n",
      "1   1       wrench  6.490396\n",
      "2   2       hammer  2.903732\n",
      "3   3       sickle  8.901570\n",
      "4   4       candle  9.806495\n"
     ]
    }
   ],
   "source": [
    "import pandas as pd\n",
    "\n",
    "orders_df = pd.read_csv(\"orders.csv\", usecols=['id', 'customer', 'products'])\n",
    "products_df = pd.read_csv(\"products.csv\", usecols=['id', 'name', 'cost'])\n",
    "\n",
    "#Showing the first 5 columns of the dataframe\n",
    "print(orders_df.head())\n",
    "print(products_df.head())"
   ]
  },
  {
   "cell_type": "code",
   "execution_count": 2,
   "metadata": {},
   "outputs": [],
   "source": [
    "list_total = []\n",
    "\n",
    "for index, row in orders_df.iterrows():\n",
    "    #selecting purchased elements\n",
    "    elements = row['products'].split(\" \")\n",
    "    #computing total cost of all the products\n",
    "    total = sum([products_df.loc[products_df[\"id\"]==int(i), \"cost\"].iloc[0] for i in elements])\n",
    "    list_total.append(total)\n",
    "    "
   ]
  },
  {
   "cell_type": "code",
   "execution_count": 3,
   "metadata": {},
   "outputs": [
    {
     "name": "stdout",
     "output_type": "stream",
     "text": [
      "   order_id  total_price\n",
      "0         0    18.943120\n",
      "1         1    61.425421\n",
      "2         2    23.145479\n",
      "3         3    34.399455\n",
      "4         4    45.540896\n"
     ]
    }
   ],
   "source": [
    "# Create new dataframe with only the 2 columns required\n",
    "order_prices = pd.DataFrame(data=list(zip(orders_df['id'], list_total)), columns=['order_id', 'total_price'])\n",
    "\n",
    "print(order_prices.head())"
   ]
  },
  {
   "cell_type": "code",
   "execution_count": 4,
   "metadata": {},
   "outputs": [],
   "source": [
    "#Saving it into a csv\n",
    "order_prices.to_csv(\"order_prices.csv\", columns=['order_id', 'total_price'], index=False)"
   ]
  },
  {
   "cell_type": "markdown",
   "metadata": {},
   "source": [
    "### Task 2\n",
    "\n",
    "The marketing department wants to know which customers are interested in each product; they've asked for a `product_customers.csv` file that, for each product, gives the list of customers who have purchased this product:\n",
    "* `id` numeric product id\n",
    "* `customer_ids` a space-separated list of customer ids of the customers who have purchased this product"
   ]
  },
  {
   "cell_type": "code",
   "execution_count": 5,
   "metadata": {},
   "outputs": [],
   "source": [
    "#Creating dictionary to efficiently store the data\n",
    "dict_customers = {}\n",
    "for index, row in orders_df.iterrows():\n",
    "    #selecting purchased elements\n",
    "    elements = row['products'].split(\" \")\n",
    "    \n",
    "    for element in elements:\n",
    "        #if the product is new to the dictionary\n",
    "        if element not in dict_customers:\n",
    "            dict_customers[element] = [row['customer']]\n",
    "        #if it already exist just append new customer\n",
    "        else:\n",
    "            if row['customer'] not in dict_customers[element]:\n",
    "                dict_customers[element].append(row['customer'])\n",
    "\n",
    "#sort dictionary by order id\n",
    "dict_customers = {k : dict_customers[k] for k in sorted(dict_customers)}"
   ]
  },
  {
   "cell_type": "code",
   "execution_count": 6,
   "metadata": {
    "collapsed": true,
    "jupyter": {
     "outputs_hidden": true
    }
   },
   "outputs": [
    {
     "data": {
      "text/plain": [
       "{'0': [0,\n",
       "  22,\n",
       "  20,\n",
       "  28,\n",
       "  40,\n",
       "  32,\n",
       "  5,\n",
       "  45,\n",
       "  37,\n",
       "  38,\n",
       "  6,\n",
       "  44,\n",
       "  50,\n",
       "  24,\n",
       "  54,\n",
       "  59,\n",
       "  15,\n",
       "  21,\n",
       "  34,\n",
       "  19,\n",
       "  47,\n",
       "  48,\n",
       "  46,\n",
       "  10,\n",
       "  17,\n",
       "  29],\n",
       " '1': [0,\n",
       "  22,\n",
       "  40,\n",
       "  32,\n",
       "  45,\n",
       "  38,\n",
       "  51,\n",
       "  6,\n",
       "  44,\n",
       "  34,\n",
       "  3,\n",
       "  50,\n",
       "  24,\n",
       "  15,\n",
       "  5,\n",
       "  41,\n",
       "  47,\n",
       "  46,\n",
       "  35,\n",
       "  29,\n",
       "  10,\n",
       "  17,\n",
       "  9,\n",
       "  58],\n",
       " '2': [22,\n",
       "  57,\n",
       "  20,\n",
       "  40,\n",
       "  5,\n",
       "  45,\n",
       "  37,\n",
       "  51,\n",
       "  6,\n",
       "  44,\n",
       "  54,\n",
       "  8,\n",
       "  15,\n",
       "  21,\n",
       "  41,\n",
       "  48,\n",
       "  46,\n",
       "  29,\n",
       "  24,\n",
       "  17,\n",
       "  9],\n",
       " '3': [22,\n",
       "  20,\n",
       "  28,\n",
       "  32,\n",
       "  5,\n",
       "  38,\n",
       "  51,\n",
       "  34,\n",
       "  50,\n",
       "  24,\n",
       "  54,\n",
       "  21,\n",
       "  41,\n",
       "  47,\n",
       "  46,\n",
       "  44,\n",
       "  29,\n",
       "  17,\n",
       "  9],\n",
       " '4': [22,\n",
       "  57,\n",
       "  20,\n",
       "  28,\n",
       "  51,\n",
       "  24,\n",
       "  59,\n",
       "  36,\n",
       "  8,\n",
       "  15,\n",
       "  21,\n",
       "  5,\n",
       "  34,\n",
       "  19,\n",
       "  41,\n",
       "  44,\n",
       "  32,\n",
       "  35,\n",
       "  10,\n",
       "  17,\n",
       "  9],\n",
       " '5': [22,\n",
       "  57,\n",
       "  28,\n",
       "  32,\n",
       "  5,\n",
       "  37,\n",
       "  38,\n",
       "  6,\n",
       "  44,\n",
       "  34,\n",
       "  3,\n",
       "  50,\n",
       "  24,\n",
       "  54,\n",
       "  59,\n",
       "  15,\n",
       "  25,\n",
       "  21,\n",
       "  45,\n",
       "  19,\n",
       "  41,\n",
       "  47,\n",
       "  10,\n",
       "  17,\n",
       "  9,\n",
       "  29]}"
      ]
     },
     "execution_count": 6,
     "metadata": {},
     "output_type": "execute_result"
    }
   ],
   "source": [
    "dict_customers"
   ]
  },
  {
   "cell_type": "code",
   "execution_count": 7,
   "metadata": {},
   "outputs": [
    {
     "name": "stdout",
     "output_type": "stream",
     "text": [
      "  product_id                                          customers\n",
      "0          0  [0, 22, 20, 28, 40, 32, 5, 45, 37, 38, 6, 44, ...\n",
      "1          1  [0, 22, 40, 32, 45, 38, 51, 6, 44, 34, 3, 50, ...\n",
      "2          2  [22, 57, 20, 40, 5, 45, 37, 51, 6, 44, 54, 8, ...\n",
      "3          3  [22, 20, 28, 32, 5, 38, 51, 34, 50, 24, 54, 21...\n",
      "4          4  [22, 57, 20, 28, 51, 24, 59, 36, 8, 15, 21, 5,...\n",
      "5          5  [22, 57, 28, 32, 5, 37, 38, 6, 44, 34, 3, 50, ...\n"
     ]
    }
   ],
   "source": [
    "#save dictionary to csv\n",
    "product_customers_df = pd.DataFrame(data=list(zip(dict_customers.keys(), dict_customers.values())), columns=['product_id', 'customers'])\n",
    "print(product_customers_df)\n",
    "product_customers_df.to_csv(\"product_customers.csv\", columns=['product_id', 'customers'], index=False)"
   ]
  },
  {
   "cell_type": "markdown",
   "metadata": {},
   "source": [
    "### Task 3\n",
    "\n",
    "To evaluate our customers, we need a `customer_ranking.csv` containing the following columns, ranked in descending order by total_euros:\n",
    "* `id` numeric id of the customer\n",
    "* `firstname` customer first name\n",
    "* `lastname` customer last name\n",
    "* `total_euros` total euros this customer has spent on products"
   ]
  },
  {
   "cell_type": "code",
   "execution_count": 8,
   "metadata": {},
   "outputs": [],
   "source": [
    "#Loading the previously created order_prices dataframe\n",
    "order_prices_df = pd.read_csv(\"order_prices.csv\", usecols=['order_id', 'total_price'])\n",
    "orders_df = pd.read_csv(\"orders.csv\", usecols=['id', 'customer', 'products'])\n",
    "customers_df = pd.read_csv(\"customers.csv\", usecols=['id', 'firstname', 'lastname'])"
   ]
  },
  {
   "cell_type": "code",
   "execution_count": 9,
   "metadata": {},
   "outputs": [],
   "source": [
    "#Creating dictionary to efficiently store the data\n",
    "dict_customers_rankings = {}\n",
    "for index, row in order_prices_df.iterrows():\n",
    "    \n",
    "    #Getting the customer who made the order\n",
    "    customer_id = orders_df.loc[orders_df['id'] == row['order_id'], 'customer'].iloc[0]\n",
    "    \n",
    "    #Creating dictionary inside the original one to store multiple entries\n",
    "    if customer_id not in dict_customers_rankings:\n",
    "            dict_customers_rankings[customer_id] = {'total': row['total_price'], \n",
    "                                                    'firstname': customers_df.loc[customers_df['id'] == customer_id, 'firstname'].iloc[0],\n",
    "                                                    'lastname': customers_df.loc[customers_df['id'] == customer_id, 'lastname'].iloc[0]\n",
    "                                                   }\n",
    "    else:\n",
    "        #If already exists just update total cost\n",
    "        dict_customers_rankings[customer_id]['total'] += row['total_price']\n",
    "    "
   ]
  },
  {
   "cell_type": "code",
   "execution_count": 10,
   "metadata": {},
   "outputs": [
    {
     "data": {
      "text/plain": [
       "{0: {'total': 18.94312018282366, 'firstname': 'John', 'lastname': 'Maxwell'},\n",
       " 22: {'total': 124.71069029464272,\n",
       "  'firstname': 'Paul',\n",
       "  'lastname': 'Lavoisier'},\n",
       " 57: {'total': 23.1454792209952, 'firstname': 'Jane', 'lastname': 'Feynman'},\n",
       " 20: {'total': 34.39945536782433, 'firstname': 'Paul', 'lastname': 'Fermi'},\n",
       " 28: {'total': 45.54089635777856,\n",
       "  'firstname': 'Ringo',\n",
       "  'lastname': 'Lavoisier'},\n",
       " 40: {'total': 15.356455867079756,\n",
       "  'firstname': 'Sam',\n",
       "  'lastname': 'Lavoisier'},\n",
       " 32: {'total': 119.16389695712095, 'firstname': 'Samuel', 'lastname': 'Fermi'},\n",
       " 5: {'total': 99.14373610351268, 'firstname': 'John', 'lastname': 'Pasteur'},\n",
       " 45: {'total': 35.79133727218077, 'firstname': 'Mary', 'lastname': 'Feynman'},\n",
       " 37: {'total': 37.190652332205616,\n",
       "  'firstname': 'Sam',\n",
       "  'lastname': 'Heisenberg'},\n",
       " 38: {'total': 65.07085261235663, 'firstname': 'Sam', 'lastname': 'Fermi'},\n",
       " 51: {'total': 34.592589673186325,\n",
       "  'firstname': 'Sarah',\n",
       "  'lastname': 'Feynman'},\n",
       " 6: {'total': 22.810544398180586, 'firstname': 'James', 'lastname': 'Maxwell'},\n",
       " 44: {'total': 138.4106269396071, 'firstname': 'Mary', 'lastname': 'Fermi'},\n",
       " 34: {'total': 145.2543359308485,\n",
       "  'firstname': 'Samuel',\n",
       "  'lastname': 'Lavoisier'},\n",
       " 3: {'total': 40.3416936820254, 'firstname': 'John', 'lastname': 'Feynman'},\n",
       " 50: {'total': 51.16828884378742, 'firstname': 'Sarah', 'lastname': 'Fermi'},\n",
       " 24: {'total': 136.82767039246306,\n",
       "  'firstname': 'Ringo',\n",
       "  'lastname': 'Maxwell'},\n",
       " 54: {'total': 28.202881379295736, 'firstname': 'Jane', 'lastname': 'Maxwell'},\n",
       " 59: {'total': 52.64239549683009, 'firstname': 'Jane', 'lastname': 'Pasteur'},\n",
       " 36: {'total': 9.806494914226445, 'firstname': 'Sam', 'lastname': 'Maxwell'},\n",
       " 8: {'total': 12.710227035482635, 'firstname': 'James', 'lastname': 'Fermi'},\n",
       " 15: {'total': 54.27075731112488, 'firstname': 'Peter', 'lastname': 'Feynman'},\n",
       " 25: {'total': 20.870504371025127,\n",
       "  'firstname': 'Ringo',\n",
       "  'lastname': 'Heisenberg'},\n",
       " 21: {'total': 54.64120246756335, 'firstname': 'Paul', 'lastname': 'Feynman'},\n",
       " 19: {'total': 33.65816293966331,\n",
       "  'firstname': 'Paul',\n",
       "  'lastname': 'Heisenberg'},\n",
       " 41: {'total': 60.77799949217107, 'firstname': 'Sam', 'lastname': 'Pasteur'},\n",
       " 47: {'total': 38.279942132039736, 'firstname': 'Mary', 'lastname': 'Pasteur'},\n",
       " 48: {'total': 5.884895775667927, 'firstname': 'Sarah', 'lastname': 'Maxwell'},\n",
       " 46: {'total': 36.668828177075135,\n",
       "  'firstname': 'Mary',\n",
       "  'lastname': 'Lavoisier'},\n",
       " 35: {'total': 16.296891351226538,\n",
       "  'firstname': 'Samuel',\n",
       "  'lastname': 'Pasteur'},\n",
       " 29: {'total': 70.0317519380194, 'firstname': 'Ringo', 'lastname': 'Pasteur'},\n",
       " 10: {'total': 73.1779650450406,\n",
       "  'firstname': 'James',\n",
       "  'lastname': 'Lavoisier'},\n",
       " 17: {'total': 50.91273763436682, 'firstname': 'Peter', 'lastname': 'Pasteur'},\n",
       " 9: {'total': 38.53744542169881, 'firstname': 'James', 'lastname': 'Feynman'},\n",
       " 58: {'total': 6.4903964370000935,\n",
       "  'firstname': 'Jane',\n",
       "  'lastname': 'Lavoisier'}}"
      ]
     },
     "execution_count": 10,
     "metadata": {},
     "output_type": "execute_result"
    }
   ],
   "source": [
    "dict_customers_rankings"
   ]
  },
  {
   "cell_type": "code",
   "execution_count": 12,
   "metadata": {},
   "outputs": [
    {
     "name": "stdout",
     "output_type": "stream",
     "text": [
      "[34, 44, 24, 22, 32, 5, 10, 29, 38, 41, 21, 15, 59, 50, 17, 28, 3, 9, 47, 37, 46, 45, 51, 20, 19, 54, 57, 6, 25, 0, 35, 40, 8, 36, 58, 48]\n"
     ]
    }
   ],
   "source": [
    "#SORTING PART\n",
    "\n",
    "#First we obtain a list with the customers ids sorted by total amount spent\n",
    "customers_sorted_list = sorted(dict_customers_rankings.keys(), key=lambda x: (dict_customers_rankings[x]['total']), reverse=True)\n",
    "print(customers_sorted_list)\n",
    "\n",
    "#From that list, we created a new one with all the data stored by customer\n",
    "ranking = []\n",
    "for item in customers_sorted_list:\n",
    "    ranking.append([item, dict_customers_rankings[item]['firstname'], dict_customers_rankings[item]['lastname'], dict_customers_rankings[item]['total']])\n"
   ]
  },
  {
   "cell_type": "code",
   "execution_count": 13,
   "metadata": {},
   "outputs": [
    {
     "data": {
      "text/plain": [
       "[[34, 'Samuel', 'Lavoisier', 145.2543359308485],\n",
       " [44, 'Mary', 'Fermi', 138.4106269396071],\n",
       " [24, 'Ringo', 'Maxwell', 136.82767039246306],\n",
       " [22, 'Paul', 'Lavoisier', 124.71069029464272],\n",
       " [32, 'Samuel', 'Fermi', 119.16389695712095],\n",
       " [5, 'John', 'Pasteur', 99.14373610351268],\n",
       " [10, 'James', 'Lavoisier', 73.1779650450406],\n",
       " [29, 'Ringo', 'Pasteur', 70.0317519380194],\n",
       " [38, 'Sam', 'Fermi', 65.07085261235663],\n",
       " [41, 'Sam', 'Pasteur', 60.77799949217107],\n",
       " [21, 'Paul', 'Feynman', 54.64120246756335],\n",
       " [15, 'Peter', 'Feynman', 54.27075731112488],\n",
       " [59, 'Jane', 'Pasteur', 52.64239549683009],\n",
       " [50, 'Sarah', 'Fermi', 51.16828884378742],\n",
       " [17, 'Peter', 'Pasteur', 50.91273763436682],\n",
       " [28, 'Ringo', 'Lavoisier', 45.54089635777856],\n",
       " [3, 'John', 'Feynman', 40.3416936820254],\n",
       " [9, 'James', 'Feynman', 38.53744542169881],\n",
       " [47, 'Mary', 'Pasteur', 38.279942132039736],\n",
       " [37, 'Sam', 'Heisenberg', 37.190652332205616],\n",
       " [46, 'Mary', 'Lavoisier', 36.668828177075135],\n",
       " [45, 'Mary', 'Feynman', 35.79133727218077],\n",
       " [51, 'Sarah', 'Feynman', 34.592589673186325],\n",
       " [20, 'Paul', 'Fermi', 34.39945536782433],\n",
       " [19, 'Paul', 'Heisenberg', 33.65816293966331],\n",
       " [54, 'Jane', 'Maxwell', 28.202881379295736],\n",
       " [57, 'Jane', 'Feynman', 23.1454792209952],\n",
       " [6, 'James', 'Maxwell', 22.810544398180586],\n",
       " [25, 'Ringo', 'Heisenberg', 20.870504371025127],\n",
       " [0, 'John', 'Maxwell', 18.94312018282366],\n",
       " [35, 'Samuel', 'Pasteur', 16.296891351226538],\n",
       " [40, 'Sam', 'Lavoisier', 15.356455867079756],\n",
       " [8, 'James', 'Fermi', 12.710227035482635],\n",
       " [36, 'Sam', 'Maxwell', 9.806494914226445],\n",
       " [58, 'Jane', 'Lavoisier', 6.4903964370000935],\n",
       " [48, 'Sarah', 'Maxwell', 5.884895775667927]]"
      ]
     },
     "execution_count": 13,
     "metadata": {},
     "output_type": "execute_result"
    }
   ],
   "source": [
    "ranking"
   ]
  },
  {
   "cell_type": "code",
   "execution_count": 14,
   "metadata": {},
   "outputs": [
    {
     "name": "stdout",
     "output_type": "stream",
     "text": [
      "    customer_id firstname    lastname  total_price\n",
      "0            34    Samuel   Lavoisier   145.254336\n",
      "1            44      Mary       Fermi   138.410627\n",
      "2            24     Ringo     Maxwell   136.827670\n",
      "3            22      Paul   Lavoisier   124.710690\n",
      "4            32    Samuel       Fermi   119.163897\n",
      "5             5      John     Pasteur    99.143736\n",
      "6            10     James   Lavoisier    73.177965\n",
      "7            29     Ringo     Pasteur    70.031752\n",
      "8            38       Sam       Fermi    65.070853\n",
      "9            41       Sam     Pasteur    60.777999\n",
      "10           21      Paul     Feynman    54.641202\n",
      "11           15     Peter     Feynman    54.270757\n",
      "12           59      Jane     Pasteur    52.642395\n",
      "13           50     Sarah       Fermi    51.168289\n",
      "14           17     Peter     Pasteur    50.912738\n",
      "15           28     Ringo   Lavoisier    45.540896\n",
      "16            3      John     Feynman    40.341694\n",
      "17            9     James     Feynman    38.537445\n",
      "18           47      Mary     Pasteur    38.279942\n",
      "19           37       Sam  Heisenberg    37.190652\n",
      "20           46      Mary   Lavoisier    36.668828\n",
      "21           45      Mary     Feynman    35.791337\n",
      "22           51     Sarah     Feynman    34.592590\n",
      "23           20      Paul       Fermi    34.399455\n",
      "24           19      Paul  Heisenberg    33.658163\n",
      "25           54      Jane     Maxwell    28.202881\n",
      "26           57      Jane     Feynman    23.145479\n",
      "27            6     James     Maxwell    22.810544\n",
      "28           25     Ringo  Heisenberg    20.870504\n",
      "29            0      John     Maxwell    18.943120\n",
      "30           35    Samuel     Pasteur    16.296891\n",
      "31           40       Sam   Lavoisier    15.356456\n",
      "32            8     James       Fermi    12.710227\n",
      "33           36       Sam     Maxwell     9.806495\n",
      "34           58      Jane   Lavoisier     6.490396\n",
      "35           48     Sarah     Maxwell     5.884896\n"
     ]
    }
   ],
   "source": [
    "#save dictionary to csv\n",
    "customer_ranking_df = pd.DataFrame(data=ranking, columns=['customer_id', 'firstname', 'lastname', 'total_price'])\n",
    "print(customer_ranking_df)\n",
    "customer_ranking_df.to_csv(\"customer_ranking.csv\", columns=['customer_id', 'firstname', 'lastname', 'total_price'], index=False)"
   ]
  },
  {
   "cell_type": "code",
   "execution_count": null,
   "metadata": {},
   "outputs": [],
   "source": []
  }
 ],
 "metadata": {
  "kernelspec": {
   "display_name": "Python 3",
   "language": "python",
   "name": "python3"
  },
  "language_info": {
   "codemirror_mode": {
    "name": "ipython",
    "version": 3
   },
   "file_extension": ".py",
   "mimetype": "text/x-python",
   "name": "python",
   "nbconvert_exporter": "python",
   "pygments_lexer": "ipython3",
   "version": "3.7.5"
  }
 },
 "nbformat": 4,
 "nbformat_minor": 4
}
